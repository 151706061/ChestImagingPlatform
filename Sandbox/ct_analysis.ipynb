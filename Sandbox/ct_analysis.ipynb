{
 "metadata": {
  "name": "ct_analysis.ipynb"
 },
 "nbformat": 3,
 "nbformat_minor": 0,
 "worksheets": [
  {
   "cells": [
    {
     "cell_type": "code",
     "collapsed": false,
     "input": [
      "import numpy as np\n",
      "import matplotlib.pyplot as plt"
     ],
     "language": "python",
     "metadata": {},
     "outputs": [],
     "prompt_number": "*"
    },
    {
     "cell_type": "code",
     "collapsed": false,
     "input": [
      "file_name = '/Users/jross/Projects/Data/Processed/COPDGene/19084F/19084F_INSP_STD_BWH_COPD/19084F_INSP_STD_BWH_COPD_regionHistograms.csv'\n",
      "data = np.loadtxt(open(file_name,\"rb\"), delimiter=\",\", skiprows=1)\n",
      "data_same = data\n"
     ],
     "language": "python",
     "metadata": {},
     "outputs": [],
     "prompt_number": "*"
    },
    {
     "cell_type": "code",
     "collapsed": false,
     "input": [],
     "language": "python",
     "metadata": {},
     "outputs": []
    }
   ],
   "metadata": {}
  }
 ]
}